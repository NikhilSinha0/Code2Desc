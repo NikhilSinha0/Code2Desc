{
 "cells": [
  {
   "cell_type": "code",
   "execution_count": 6,
   "metadata": {},
   "outputs": [],
   "source": [
    "import gensim, csv"
   ]
  },
  {
   "cell_type": "code",
   "execution_count": 8,
   "metadata": {},
   "outputs": [
    {
     "name": "stdout",
     "output_type": "stream",
     "text": [
      "0\n",
      "10000\n",
      "20000\n",
      "30000\n",
      "40000\n",
      "50000\n",
      "60000\n",
      "70000\n",
      "80000\n",
      "90000\n",
      "100000\n",
      "110000\n",
      "120000\n",
      "130000\n",
      "140000\n",
      "150000\n",
      "160000\n",
      "170000\n",
      "180000\n",
      "190000\n",
      "200000\n",
      "210000\n",
      "220000\n"
     ]
    }
   ],
   "source": [
    "documents = []\n",
    "with open('data.csv', 'r') as readfile:\n",
    "    rows = csv.reader(readfile)\n",
    "    i = 0\n",
    "    for row in rows:\n",
    "        documents.append(gensim.utils.simple_preprocess(row[0]))\n",
    "        if (i % 10000 == 0):\n",
    "            print(i)\n",
    "        i += 1"
   ]
  },
  {
   "cell_type": "code",
   "execution_count": 12,
   "metadata": {},
   "outputs": [],
   "source": [
    "model = gensim.models.Word2Vec(documents, size=150, window=10, min_count=2, workers=10)"
   ]
  },
  {
   "cell_type": "code",
   "execution_count": 13,
   "metadata": {},
   "outputs": [
    {
     "data": {
      "text/plain": [
       "(141379616, 193337590)"
      ]
     },
     "execution_count": 13,
     "metadata": {},
     "output_type": "execute_result"
    }
   ],
   "source": [
    "model.train(documents, total_examples=len(documents), epochs=10)"
   ]
  },
  {
   "cell_type": "code",
   "execution_count": 15,
   "metadata": {},
   "outputs": [],
   "source": [
    "model.save('weights.wv')"
   ]
  },
  {
   "cell_type": "code",
   "execution_count": 22,
   "metadata": {},
   "outputs": [],
   "source": [
    "model = gensim.models.Word2Vec.load('weights.wv')"
   ]
  },
  {
   "cell_type": "code",
   "execution_count": 29,
   "metadata": {},
   "outputs": [
    {
     "data": {
      "text/plain": [
       "[('request', 0.6474366188049316),\n",
       " ('aiohttp', 0.5199804902076721),\n",
       " ('urllib', 0.4675719141960144),\n",
       " ('asmx', 0.461132287979126),\n",
       " ('apiremoting', 0.4543105661869049),\n",
       " ('praw', 0.4464508295059204),\n",
       " ('brreg', 0.4380870759487152),\n",
       " ('proxies', 0.43285462260246277),\n",
       " ('getattachment', 0.43004411458969116),\n",
       " ('endpoint', 0.4279964566230774)]"
      ]
     },
     "execution_count": 29,
     "metadata": {},
     "output_type": "execute_result"
    }
   ],
   "source": [
    "model.wv.most_similar(positive=\"requests\")"
   ]
  },
  {
   "cell_type": "code",
   "execution_count": 20,
   "metadata": {},
   "outputs": [
    {
     "name": "stderr",
     "output_type": "stream",
     "text": [
      "/anaconda3/lib/python3.6/site-packages/ipykernel_launcher.py:1: DeprecationWarning: Call to deprecated `__getitem__` (Method will be removed in 4.0.0, use self.wv.__getitem__() instead).\n",
      "  \"\"\"Entry point for launching an IPython kernel.\n"
     ]
    },
    {
     "data": {
      "text/plain": [
       "array([[ 1.7280585 , -4.139976  ,  1.9669238 , ...,  3.5726452 ,\n",
       "        -2.9367485 , -2.135235  ],\n",
       "       [ 4.0271544 , -2.6953847 , -2.3545308 , ...,  6.340136  ,\n",
       "         0.36612695, -1.5715495 ],\n",
       "       [-1.7517271 , -2.9156556 ,  1.7165639 , ...,  0.69645303,\n",
       "         1.452411  , -1.7565737 ],\n",
       "       ...,\n",
       "       [ 1.6055027 , -2.3879428 ,  3.0928447 , ..., -1.170222  ,\n",
       "         5.190959  ,  0.14109129],\n",
       "       [-2.3182168 ,  0.84208006, -2.2460568 , ...,  2.8140883 ,\n",
       "        -5.429857  , -1.5055727 ],\n",
       "       [ 4.3136773 ,  1.5663561 ,  1.1659611 , ..., -3.7623966 ,\n",
       "        -2.8339088 , -0.37048623]], dtype=float32)"
      ]
     },
     "execution_count": 20,
     "metadata": {},
     "output_type": "execute_result"
    }
   ],
   "source": [
    "model[documents[0]]"
   ]
  },
  {
   "cell_type": "code",
   "execution_count": null,
   "metadata": {},
   "outputs": [],
   "source": []
  }
 ],
 "metadata": {
  "kernelspec": {
   "display_name": "Python 3",
   "language": "python",
   "name": "python3"
  },
  "language_info": {
   "codemirror_mode": {
    "name": "ipython",
    "version": 3
   },
   "file_extension": ".py",
   "mimetype": "text/x-python",
   "name": "python",
   "nbconvert_exporter": "python",
   "pygments_lexer": "ipython3",
   "version": "3.6.6"
  }
 },
 "nbformat": 4,
 "nbformat_minor": 2
}
